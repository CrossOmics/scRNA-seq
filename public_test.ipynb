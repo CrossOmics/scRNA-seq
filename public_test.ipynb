{
 "cells": [
  {
   "metadata": {},
   "cell_type": "code",
   "source": "pip install cplearn #Install this pacakge.",
   "id": "6308aed1fa8db22",
   "outputs": [],
   "execution_count": null
  },
  {
   "metadata": {},
   "cell_type": "code",
   "source": [
    "#Load data here.\n",
    "X=None #X will be an n*d numpy array. Most likely either the post-PCA or post-harmony dataset."
   ],
   "id": "f06728ab7465c595",
   "outputs": [],
   "execution_count": null
  },
  {
   "metadata": {},
   "cell_type": "code",
   "source": [
    "from cplearn.corespect import Corespect\n",
    "corespect = Corespect(X)\n",
    "core = corespect.find_core(core_fraction=0.15,ranking_algo_params={'q':40,'r':20})\n",
    "#Here, if you want to find larger clusters, use larger values of q and r (such as q=40,r=20), and if you want to find more sub-clusters, you may use {'q':20,'r':10}. r=0.5*q is usually a good choice.\n",
    "#We are currently implementing a new method that is able to do both simultaneously.\n",
    "\n",
    "\n",
    "\n",
    "cluster_core = corespect.cluster_core(core, cluster_algo='louvain',cluster_algo_params={\"ng_num\": 20,\"resolution\":1})\n",
    "propagated_data = corespect.propagate_labels(cluster_core, propagate_algo='adaptive_majority', propagate_algo_params={\"ng_num\": 20})"
   ],
   "id": "ba4a95f09619f4fc",
   "outputs": [],
   "execution_count": null
  },
  {
   "metadata": {},
   "cell_type": "code",
   "source": [
    "from cplearn.visualizer import Visualizer as viz\n",
    "# 4. Extract layers and labels\n",
    "layers, labels_for_layer = propagated_data.get_layers_and_labels()\n",
    "\n",
    "#The first layers are cores. These are the most separable parts.\n",
    "#For now, if adaptive majority is used, then you get three layers when using this method.\n",
    "#The first is the core\n",
    "#The second is all points we can cluster confidently\n",
    "#More points that we can cluster, but less confidently\n",
    "#You will notice that it will not contain indexes of some points; these are points we could not cluster"
   ],
   "id": "17373b615805b413",
   "outputs": [],
   "execution_count": null
  },
  {
   "metadata": {},
   "cell_type": "code",
   "source": [
    "#We will use this is a basic skeleton for subsequent visualization.\n",
    "import umap\n",
    "reducer=umap.UMAP(n_neighbors=15, init='spectral')\n",
    "X_umap=reducer.fit_transform(X)"
   ],
   "id": "cb30321146826a3",
   "outputs": [],
   "execution_count": null
  },
  {
   "metadata": {},
   "cell_type": "code",
   "source": [
    "# 5. Visualize (Visualizer internally calls CoreMAP for embedding)\n",
    "mode_choice='three_steps' #use this with adaptive_majority\n",
    "#You can use mode_choice='layerwise' to see a more in-depth layer-by-layer visualization\n",
    "#Use layerwise if propagate_algo is \"CDNN\"\n",
    "fig = viz(corespect,global_init_embedding=X_umap,mode=mode_choice).fig"
   ],
   "id": "6d39c24d66fb9d4d",
   "outputs": [],
   "execution_count": null
  },
  {
   "metadata": {},
   "cell_type": "code",
   "source": [
    "#In the output html file, click on \"FlowRank\" on the line that says core.\n",
    "#Then click on the \"louvain\" button in the next line\n",
    "#Finally, click on the \"adaptive majority\" button\n",
    "#Now, a scrollbar will appear at the bottom of the image. You can move it from left to right, and observe visualization of the core (central points) to periphery (boundary points) (colored using labels found by CoreSPECT)\"\n",
    "\n",
    "fig.show()   # or fig.write_html(\"corespect_viz.html\")"
   ],
   "id": "e13f67e7c8b13651",
   "outputs": [],
   "execution_count": null
  },
  {
   "metadata": {},
   "cell_type": "code",
   "source": "#We also have functionality where you can run multiple clustering/propagation steps on the same data, and then be able to access them in a user-friendly manner, as well as be able to observe their visualizations collectively for smooth comparisons. The functionality already exists in our cplearn package and we will share a detailed description/vignette for direction soon.",
   "id": "daa5abff93c1c811",
   "outputs": [],
   "execution_count": null
  },
  {
   "metadata": {},
   "cell_type": "code",
   "source": [
    "#If you want to visualize the same thing, but with your own labels for the data, run the following command.\n",
    "#This requires a re-run of the whole code again, which is redundant, and will be fixed in the next version.\n",
    "\n",
    "user_label=None #Use your label here. Currently, the labels have to be integer valued. But we will make string-labels possible very soon.\n",
    "\n",
    "fig = viz(corespect,labels=user_label,global_init_embedding=X_umap).fig\n",
    "\n",
    "fig.show()"
   ],
   "id": "a85af46578377e90",
   "outputs": [],
   "execution_count": null
  },
  {
   "metadata": {},
   "cell_type": "code",
   "source": [
    "#Now we can look at DEGs w.r.t. the layers and the clusters output by CoreSPECT\n",
    "#We use the wilcoxon rank-sum method to calculate DEG for now"
   ],
   "id": "146772b92c98b6ef",
   "outputs": [],
   "execution_count": null
  },
  {
   "metadata": {},
   "cell_type": "code",
   "source": [
    "#Load X_cg, the original cell x gene matrix corresponding to X.\n",
    "#X_cg=None\n",
    "\n",
    "c1=[3] #Add all label numbers that you want to put in group 1\n",
    "c2=[14] #Add all label numbers that you want to put in group 1\n",
    "\n",
    "from scRNA_seq.layered_deg import Deg\n",
    "deg = Deg(X_cg=X_cg,corespect=corespect)\n",
    "de_results=deg.detailed_deg(c1,c2,top_deg_num_per_layer=10,custom_labels=None)#here you can also pass your own label"
   ],
   "id": "ce8ab57257747a01",
   "outputs": [],
   "execution_count": null
  },
  {
   "metadata": {},
   "cell_type": "code",
   "source": "de_results_select=de_results[0] #Follow this for now. If you have run the cell as described so far this will be needed.",
   "id": "d72c589bd7840d9f",
   "outputs": [],
   "execution_count": null
  },
  {
   "metadata": {},
   "cell_type": "markdown",
   "source": [
    "You can now look at the different DEG value metrics (such as percentage and logfoldchange and means) between c1 and c2 across different layers.\n",
    "\n",
    "The column 0 implies that the calculation is only between points in the layer 0\n",
    "\n",
    "Similarly: The column 1 implies that the calculation is only between points in the layer 1\n",
    "\n",
    "On the other-hand the column 1+ is for points upto layer 1 (that is layer 0 and layer 1) and so on.\n",
    "\n",
    "A dashed entry implies that the gene was not considered to be differentially expressed in that layer.\n",
    "\n",
    "The key is the column-number of the gene in X_cg. You may have the gene names in your adata, which should give you the name of the genes observed her.\n",
    "\n"
   ],
   "id": "341fb16c1e5d119a"
  },
  {
   "metadata": {},
   "cell_type": "code",
   "source": [
    "#Indexes:\n",
    "#0: p_values\n",
    "#1: avg_log2FC\n",
    "#2: mean1\n",
    "#3: mean2\n",
    "#4: pct1\n",
    "#5: pct2\n",
    "from open_source.degspect.deg_utils import tabulate_de_results\n",
    "tabulate_de_results(de_results_select,4,5)"
   ],
   "id": "a60828566984341e",
   "outputs": [],
   "execution_count": null
  },
  {
   "metadata": {},
   "cell_type": "code",
   "source": "",
   "id": "a6970ad5261d0e6d",
   "outputs": [],
   "execution_count": null
  }
 ],
 "metadata": {
  "kernelspec": {
   "display_name": "Python 3",
   "language": "python",
   "name": "python3"
  },
  "language_info": {
   "codemirror_mode": {
    "name": "ipython",
    "version": 2
   },
   "file_extension": ".py",
   "mimetype": "text/x-python",
   "name": "python",
   "nbconvert_exporter": "python",
   "pygments_lexer": "ipython2",
   "version": "2.7.6"
  }
 },
 "nbformat": 4,
 "nbformat_minor": 5
}
