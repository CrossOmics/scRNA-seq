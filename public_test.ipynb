{
 "cells": [
  {
   "metadata": {},
   "cell_type": "code",
   "source": "#install with: pip install cplearn",
   "id": "329ca4d4f6bbf7a7",
   "outputs": [],
   "execution_count": null
  },
  {
   "metadata": {},
   "cell_type": "markdown",
   "source": [
    "### Load dataset X as you would have in the pre-clustering step.\n",
    "\n",
    "Type of the dataset should be np.ndarray() of shape (n_cells, n_features) where n_cells is the number of cells and n_features is the number of features (PCA components or Harmony components).\n",
    "\n",
    "\n"
   ],
   "id": "9322b18db4fd0cbc"
  },
  {
   "metadata": {},
   "cell_type": "code",
   "outputs": [],
   "execution_count": null,
   "source": [
    "#Load your matrix here.\n",
    "#Load the pre-clustering matrix (such as post harmony 30 dimensional dataset) as X\n",
    "#Load the cell x gene matrix as X_cg\n",
    "#If you have name of the genes, load them in gene_names."
   ],
   "id": "10d16187528cba4"
  },
  {
   "metadata": {},
   "cell_type": "markdown",
   "source": [
    "### Load cplearn modules.\n",
    "1. CorespectModel: Main class for running the Corespect algorithm.\n",
    "2. CoreSpectConfig: Configuration class for setting up parameters for Corespect."
   ],
   "id": "caf8002b603507db"
  },
  {
   "metadata": {},
   "cell_type": "code",
   "source": [
    "from cplearn.corespect import CorespectModel\n",
    "from cplearn.corespect.config import CoreSpectConfig"
   ],
   "id": "6c2b1afc0f524f24",
   "outputs": [],
   "execution_count": null
  },
  {
   "metadata": {},
   "cell_type": "markdown",
   "source": [
    "### Primary parameters:\n",
    "\n",
    "1. #### q,r: default: 20,10.\n",
    "        Neighborhood parameters for K-NN graph construction and ascending random walk of FlowRank respectively. Larger values detect more globally low-variance regions whereas lower values lead to more locally low-variance regions.\n",
    "\n",
    "2. #### granularity: default: 1.5.\n",
    "        Another parameter to control locality of cores. Higher values lead to more local cores.\n",
    "\n",
    "3. #### core_frac: default: 0.2.\n",
    "        Fraction of points to be selected in the core. Larger fraction is advised if some small clusters are completely missed in the core. Can be auto-selected with auto_select_core_frac:True (beta feature).\n",
    "\n",
    "4. #### densify: default: False.\n",
    "        Densification of different induced subgraph. Choose 'rw' or 'k-nn' to try different methods. This reduces the fragmentation of the cores.\n",
    "\n",
    "5. #### resolution: default: 1.\n",
    "        Resolution for clustering the core with Leiden. Higher values lead to more clusters in the core.\n",
    "\n"
   ],
   "id": "dd7674e2aa248e58"
  },
  {
   "metadata": {},
   "cell_type": "code",
   "source": [
    "#Initial parameters.\n",
    "cfg = CoreSpectConfig(\n",
    "    q=20,\n",
    "    r=10,\n",
    "    core_frac=0.2,\n",
    "    densify=False,\n",
    "    granularity=1.5,\n",
    "    resolution=1\n",
    ").configure()"
   ],
   "id": "ae0c7f37df464d9b",
   "outputs": [],
   "execution_count": null
  },
  {
   "metadata": {},
   "cell_type": "markdown",
   "source": [
    "### Running corespect:\n",
    "\n",
    "We can run it with the two following modes:\n",
    "\n",
    "1. Fine_grained: This mode allows finding recursively cleaner cores from the initially obtained stable_core. Recommended to be True.\n",
    "\n",
    "2. Propagate: This mode allows clustering non-core points (and finding peripheral layers) with a normalized-laplacian-based core-label propagation. Recommended to be True.\n"
   ],
   "id": "bb89dc19312dda73"
  },
  {
   "metadata": {},
   "cell_type": "code",
   "source": [
    "#| output: false\n",
    "model = CorespectModel(X, **cfg.unpack()).run(fine_grained=True,propagate=True)"
   ],
   "id": "c36e6cf4fa95710c",
   "outputs": [],
   "execution_count": null
  },
  {
   "metadata": {},
   "cell_type": "code",
   "source": [
    "import umap\n",
    "reducer=umap.UMAP()\n",
    "X_umap=reducer.fit_transform(X)"
   ],
   "id": "a1119b6082d15d1a",
   "outputs": [],
   "execution_count": null
  },
  {
   "metadata": {},
   "cell_type": "code",
   "source": [
    "#| output: false\n",
    "from cplearn.coremap import Coremap\n",
    "cmap=Coremap(model,global_umap=X_umap,fast_view=True)#,anchor_finding_mode='default')#,anchor_reach=500)"
   ],
   "id": "84bfdf34b5f59ea",
   "outputs": [],
   "execution_count": null
  },
  {
   "metadata": {},
   "cell_type": "code",
   "source": [
    "from cplearn.coremap.vizualizer import visualize_coremap\n",
    "fig=visualize_coremap(cmap,model.labels_, use_webgl=True)\n",
    "fig.show()"
   ],
   "id": "70775708f7ec574f",
   "outputs": [],
   "execution_count": null
  },
  {
   "metadata": {},
   "cell_type": "code",
   "source": [
    "from scRNA_seq.find_markers import DEAnalyzer,DEOptions\n",
    "\n",
    "model.count_mat=X_cg\n",
    "\n",
    "analyzer = DEAnalyzer(model,genes=gene_names,\n",
    "                       options=DEOptions(pseudocount=1.0, min_cells_per_group=5, min_detect_pct=0.05))\n",
    "\n"
   ],
   "id": "20483785226cbf2f",
   "outputs": [],
   "execution_count": null
  },
  {
   "metadata": {},
   "cell_type": "code",
   "source": "df_default = analyzer.run_default(set1={0})",
   "id": "8b45684f053f7b3a",
   "outputs": [],
   "execution_count": null
  },
  {
   "metadata": {},
   "cell_type": "code",
   "source": "analyzer.observe_de(df_default,n_rows=30)",
   "id": "588694d03a7ff7c1",
   "outputs": [],
   "execution_count": null
  },
  {
   "metadata": {},
   "cell_type": "code",
   "source": "",
   "id": "6bd33fb2fd9b4c84",
   "outputs": [],
   "execution_count": null
  }
 ],
 "metadata": {
  "kernelspec": {
   "display_name": "Python 3",
   "language": "python",
   "name": "python3"
  },
  "language_info": {
   "codemirror_mode": {
    "name": "ipython",
    "version": 2
   },
   "file_extension": ".py",
   "mimetype": "text/x-python",
   "name": "python",
   "nbconvert_exporter": "python",
   "pygments_lexer": "ipython2",
   "version": "2.7.6"
  }
 },
 "nbformat": 4,
 "nbformat_minor": 5
}
